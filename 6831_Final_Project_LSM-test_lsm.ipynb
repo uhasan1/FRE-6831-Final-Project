{
 "cells": [
  {
   "cell_type": "markdown",
   "metadata": {},
   "source": [
    "# Valuing American Options by Simulation: A Simple Least-Square Approach\n",
    "\n",
    "Implementation by Python\n",
    "\n",
    "For an American option, the optimal strategy to exercise is to compare the immediate exercise value with the expected cash flows from continuing. Thus, The key to optimally exercising an American option is identifying the conditional expected value of continuation.\n"
   ]
  },
  {
   "cell_type": "markdown",
   "metadata": {},
   "source": [
    "$ dS = \\mu Sdt + \\sigma SdZ $\n",
    "\n",
    "The formula for calculating stock price at time t is:\n",
    "\n",
    "$ S_{t_{i+1}} = S_{t_{i}} e^{(\\mu - \\frac{1}{2}\\sigma^2)(t_{i+1}-t_{i})+\\sigma \\sqrt{t_{i+1}-t_{i}} Z_{i+1}} $,\n",
    "where $Z \\sim N(0, 1)$"
   ]
  },
  {
   "cell_type": "code",
   "execution_count": 248,
   "metadata": {},
   "outputs": [],
   "source": [
    "import numpy as np\n",
    "import pandas as pd\n",
    "import matplotlib.pyplot as plt\n",
    "from sklearn.linear_model import LinearRegression\n",
    "from scipy.stats import norm\n",
    "from mpl_toolkits.mplot3d import Axes3D"
   ]
  },
  {
   "cell_type": "code",
   "execution_count": 249,
   "metadata": {},
   "outputs": [],
   "source": [
    "'''    \n",
    "parameter description:\n",
    "S0: initial price\n",
    "n: number of steps\n",
    "t: starting time\n",
    "T: terminating time\n",
    "St: trajectory of price\n",
    "a, b: the first and second moment of log Y\n",
    "d: dividend yield\n",
    "'''\n",
    "\n",
    "def Geometric_Brownian_Motion_Trajectory( mu, sigma, S0, n, t, T ): \n",
    "    time = np.linspace(t, T, n + 1) \n",
    "    delta_time = time[1] - time[0] \n",
    "    St = np.zeros(n + 1)\n",
    "    St[0] = S0\n",
    "    z = np.random.standard_normal(n) \n",
    "    for i in range(n):\n",
    "        St[i + 1] = St[i] * np.exp((mu - 1 / 2 * sigma ** 2) * delta_time + sigma * delta_time ** (1 / 2) * z[i])\n",
    "    return St\n",
    "\n",
    "def Geometric_Brownian_Motion_Jump( mu, sigma, d, S0, n, t, T, a, b, lam ):\n",
    "        \n",
    "    delta_t = (T - t) / n\n",
    "    St = np.zeros(n + 1)\n",
    "    X = np.zeros(n + 1)\n",
    "    z = np.random.normal(size=(n + 1, 1))\n",
    "    X[0] = np.log(S0)\n",
    "    for i in range(1, n + 1):\n",
    "        n = np.random.poisson(lam * delta_t)\n",
    "        if n == 0:\n",
    "            m =0 \n",
    "        else:\n",
    "            m = a * n + b * n ** 0.5 * np.random.normal()\n",
    "        X[i] = X[i - 1] + (mu - d - 0.5 * sigma ** 2) * delta_t + sigma * delta_t ** 0.5 * z[i] + m\n",
    "        St = np.exp(X)\n",
    "    return St\n"
   ]
  },
  {
   "cell_type": "code",
   "execution_count": 276,
   "metadata": {},
   "outputs": [],
   "source": [
    "def Valuation_by_Least_Square( r, sigma, S0, m, n, t, T ):\n",
    "    \n",
    "    # Create m paths of stock price with n steps of time by simulation\n",
    "    St_GeoBro = np.zeros((m, n+1))\n",
    "    for i in range(m):\n",
    "        St_GeoBro[i, :] = Geometric_Brownian_Motion_Trajectory( r, sigma, S0, n, t, T )\n",
    "\n",
    "    # Payoff is a matrix of the amount of cash flow at each step if immediately exercising the option,\n",
    "    # which is only for convenience of calculation in the following procedures \n",
    "    Payoff = np.maximum( K - St_GeoBro, 0 )\n",
    "        \n",
    "    # Cash_Flow is a matrix similar to Payoff, \n",
    "    # which is updated by doing regression and deciding whether to exercise immediately\n",
    "    Cash_Flow = np.maximum( K - St_GeoBro, 0 )\n",
    "\n",
    "    # Calculate the conditional expected value of continuation\n",
    "    # 1. regressing (Y = the discounted payoff at time t_i+1) against (X = the stock price, whose option is in the money at time t_i) and X^2\n",
    "    # 2. predict the expected conditional value at time t_i by substituing X and X^2 into the regression formula\n",
    "    # 3. compare the expected conditional value with the immediate value\n",
    "    # 4. if the immediate value is greater, exercise immediately\n",
    "\n",
    "    for i in range(n-1):\n",
    "    \n",
    "        # X is the payoff if exercise in the money at time t_i\n",
    "        X = ( Payoff[:, n-1-i] )[ Payoff[:, n-1-i] > 0 ]\n",
    "\n",
    "        # Y is the discounted payoff at time t_i+1, related to X\n",
    "        Y = ( Payoff[:, n-i] )[ Payoff[:, n-1-i] > 0 ] * np.exp( -r * 1/n * (i+1) )\n",
    "\n",
    "        # L0, L1, L2 are basis functions of X\n",
    "        # combine them into a single matrix for following regression \n",
    "        X = X.reshape(np.size(X),1)\n",
    "        L0 = np.exp( -X/2 )\n",
    "        L1 = L0 * ( 1 - X )\n",
    "        L2 = L0 * ( 1 - 2*X + X**2/2 )\n",
    "        XX = np.hstack((L0, L1, L2))\n",
    "\n",
    "        # regress Y ~ intercept + a * X + b * X2\n",
    "        reg = LinearRegression().fit(XX, Y)\n",
    "        # calculate the predicted value of Y (i.e. the conditional expected value of continuation)\n",
    "        Y_predict = reg.predict(XX)\n",
    "        Y_predict = Y_predict.reshape(1,np.size(Y_predict))\n",
    "\n",
    "        # compare the immediate exercise value with the conditional expected value of continuation\n",
    "        # and decide whether to exercise immediately\n",
    "        exercise = ( Y_predict < Payoff[ Payoff[:, n-1-i] > 0, n-1-i ] ) * Payoff[ Payoff[:, n-1-i] > 0, n-1-i ]\n",
    "\n",
    "        # substitue those values decided to exercise immediately into the Cash_Flow matrix\n",
    "        # and set the continuing values of Cash_Flow to zero, as the option is exercised obly once\n",
    "        Cash_Flow[ Payoff[:, n-1-i] > 0, n-1-i ] = exercise\n",
    "        Cash_Flow[ Payoff[:, n-1-i] > 0, n-i: ] = 0\n",
    "    \n",
    "    # calculate the discounted factor matrix\n",
    "    df = np.ones( np.shape( Cash_Flow[:, 1:] ) )\n",
    "    for i in range(n):\n",
    "        df[:, i] = np.exp( -r * 1/n * (i+1) )\n",
    "    \n",
    "    # calculate the present value of each path\n",
    "    PV_of_Cash_Flow = np.sum( (Cash_Flow[:, 1:] * df), axis=1 )\n",
    "    \n",
    "    # calculate the value of the option\n",
    "    # by averaging the value of each presen value of each path\n",
    "    value = np.mean(PV_of_Cash_Flow)\n",
    "    \n",
    "    return value\n",
    "\n"
   ]
  },
  {
   "cell_type": "code",
   "execution_count": 277,
   "metadata": {},
   "outputs": [],
   "source": [
    "S0 = 36\n",
    "K = 40\n",
    "r = 0.06\n",
    "sigma = 0.4\n",
    "t = 0\n",
    "T = 1\n",
    "d = 0\n",
    "n = 5 # 50 steps per year\n",
    "m = 10 # 100000 paths of stock price"
   ]
  },
  {
   "cell_type": "code",
   "execution_count": 278,
   "metadata": {},
   "outputs": [
    {
     "data": {
      "text/plain": [
       "4.520956796726551"
      ]
     },
     "execution_count": 278,
     "metadata": {},
     "output_type": "execute_result"
    }
   ],
   "source": [
    "Value_LSM = Valuation_by_Least_Square( r, sigma, S0, m, n, t, T )\n",
    "Value_LSM"
   ]
  },
  {
   "cell_type": "code",
   "execution_count": 279,
   "metadata": {},
   "outputs": [],
   "source": [
    "St_GeoBro = np.zeros((m, n+1))\n",
    "for i in range(m):\n",
    "    St_GeoBro[i, :] = Geometric_Brownian_Motion_Trajectory( r, sigma, S0, n, t, T )"
   ]
  },
  {
   "cell_type": "code",
   "execution_count": 280,
   "metadata": {},
   "outputs": [
    {
     "data": {
      "text/html": [
       "<div>\n",
       "<style scoped>\n",
       "    .dataframe tbody tr th:only-of-type {\n",
       "        vertical-align: middle;\n",
       "    }\n",
       "\n",
       "    .dataframe tbody tr th {\n",
       "        vertical-align: top;\n",
       "    }\n",
       "\n",
       "    .dataframe thead th {\n",
       "        text-align: right;\n",
       "    }\n",
       "</style>\n",
       "<table border=\"1\" class=\"dataframe\">\n",
       "  <thead>\n",
       "    <tr style=\"text-align: right;\">\n",
       "      <th></th>\n",
       "      <th>0</th>\n",
       "      <th>1</th>\n",
       "      <th>2</th>\n",
       "      <th>3</th>\n",
       "      <th>4</th>\n",
       "      <th>5</th>\n",
       "    </tr>\n",
       "  </thead>\n",
       "  <tbody>\n",
       "    <tr>\n",
       "      <th>0</th>\n",
       "      <td>36.0</td>\n",
       "      <td>30.886417</td>\n",
       "      <td>50.486872</td>\n",
       "      <td>49.621904</td>\n",
       "      <td>44.419210</td>\n",
       "      <td>33.168587</td>\n",
       "    </tr>\n",
       "    <tr>\n",
       "      <th>1</th>\n",
       "      <td>36.0</td>\n",
       "      <td>28.122327</td>\n",
       "      <td>27.023809</td>\n",
       "      <td>24.240287</td>\n",
       "      <td>18.859292</td>\n",
       "      <td>20.430142</td>\n",
       "    </tr>\n",
       "    <tr>\n",
       "      <th>2</th>\n",
       "      <td>36.0</td>\n",
       "      <td>32.513081</td>\n",
       "      <td>38.820187</td>\n",
       "      <td>42.573805</td>\n",
       "      <td>47.182419</td>\n",
       "      <td>43.525131</td>\n",
       "    </tr>\n",
       "    <tr>\n",
       "      <th>3</th>\n",
       "      <td>36.0</td>\n",
       "      <td>36.149456</td>\n",
       "      <td>29.336596</td>\n",
       "      <td>27.606118</td>\n",
       "      <td>26.783914</td>\n",
       "      <td>39.239713</td>\n",
       "    </tr>\n",
       "    <tr>\n",
       "      <th>4</th>\n",
       "      <td>36.0</td>\n",
       "      <td>33.494752</td>\n",
       "      <td>41.255563</td>\n",
       "      <td>43.171810</td>\n",
       "      <td>50.842742</td>\n",
       "      <td>47.945880</td>\n",
       "    </tr>\n",
       "    <tr>\n",
       "      <th>5</th>\n",
       "      <td>36.0</td>\n",
       "      <td>34.535154</td>\n",
       "      <td>33.872100</td>\n",
       "      <td>39.951350</td>\n",
       "      <td>46.838092</td>\n",
       "      <td>65.453322</td>\n",
       "    </tr>\n",
       "    <tr>\n",
       "      <th>6</th>\n",
       "      <td>36.0</td>\n",
       "      <td>40.000867</td>\n",
       "      <td>45.992322</td>\n",
       "      <td>45.318806</td>\n",
       "      <td>43.776572</td>\n",
       "      <td>81.039723</td>\n",
       "    </tr>\n",
       "    <tr>\n",
       "      <th>7</th>\n",
       "      <td>36.0</td>\n",
       "      <td>35.413704</td>\n",
       "      <td>26.709763</td>\n",
       "      <td>23.792019</td>\n",
       "      <td>28.292860</td>\n",
       "      <td>24.177192</td>\n",
       "    </tr>\n",
       "    <tr>\n",
       "      <th>8</th>\n",
       "      <td>36.0</td>\n",
       "      <td>34.987295</td>\n",
       "      <td>32.262497</td>\n",
       "      <td>38.769914</td>\n",
       "      <td>34.910185</td>\n",
       "      <td>42.533400</td>\n",
       "    </tr>\n",
       "    <tr>\n",
       "      <th>9</th>\n",
       "      <td>36.0</td>\n",
       "      <td>37.217069</td>\n",
       "      <td>43.258585</td>\n",
       "      <td>52.181505</td>\n",
       "      <td>48.209809</td>\n",
       "      <td>52.454973</td>\n",
       "    </tr>\n",
       "  </tbody>\n",
       "</table>\n",
       "</div>"
      ],
      "text/plain": [
       "      0          1          2          3          4          5\n",
       "0  36.0  30.886417  50.486872  49.621904  44.419210  33.168587\n",
       "1  36.0  28.122327  27.023809  24.240287  18.859292  20.430142\n",
       "2  36.0  32.513081  38.820187  42.573805  47.182419  43.525131\n",
       "3  36.0  36.149456  29.336596  27.606118  26.783914  39.239713\n",
       "4  36.0  33.494752  41.255563  43.171810  50.842742  47.945880\n",
       "5  36.0  34.535154  33.872100  39.951350  46.838092  65.453322\n",
       "6  36.0  40.000867  45.992322  45.318806  43.776572  81.039723\n",
       "7  36.0  35.413704  26.709763  23.792019  28.292860  24.177192\n",
       "8  36.0  34.987295  32.262497  38.769914  34.910185  42.533400\n",
       "9  36.0  37.217069  43.258585  52.181505  48.209809  52.454973"
      ]
     },
     "execution_count": 280,
     "metadata": {},
     "output_type": "execute_result"
    }
   ],
   "source": [
    "st = pd.DataFrame(data=St_GeoBro)\n",
    "st"
   ]
  },
  {
   "cell_type": "code",
   "execution_count": 281,
   "metadata": {},
   "outputs": [],
   "source": [
    "Payoff = np.maximum( K - St_GeoBro, 0 )\n",
    "Payoff_df = pd.DataFrame(data=Payoff)\n",
    "\n",
    "Cash_Flow = np.maximum( K - St_GeoBro, 0 )\n",
    "Cash_Flow_df = pd.DataFrame(data=Cash_Flow)"
   ]
  },
  {
   "cell_type": "code",
   "execution_count": 282,
   "metadata": {},
   "outputs": [
    {
     "data": {
      "text/html": [
       "<div>\n",
       "<style scoped>\n",
       "    .dataframe tbody tr th:only-of-type {\n",
       "        vertical-align: middle;\n",
       "    }\n",
       "\n",
       "    .dataframe tbody tr th {\n",
       "        vertical-align: top;\n",
       "    }\n",
       "\n",
       "    .dataframe thead th {\n",
       "        text-align: right;\n",
       "    }\n",
       "</style>\n",
       "<table border=\"1\" class=\"dataframe\">\n",
       "  <thead>\n",
       "    <tr style=\"text-align: right;\">\n",
       "      <th></th>\n",
       "      <th>0</th>\n",
       "      <th>1</th>\n",
       "      <th>2</th>\n",
       "      <th>3</th>\n",
       "      <th>4</th>\n",
       "      <th>5</th>\n",
       "    </tr>\n",
       "  </thead>\n",
       "  <tbody>\n",
       "    <tr>\n",
       "      <th>0</th>\n",
       "      <td>4.0</td>\n",
       "      <td>9.113583</td>\n",
       "      <td>0.000000</td>\n",
       "      <td>0.000000</td>\n",
       "      <td>0.000000</td>\n",
       "      <td>6.831413</td>\n",
       "    </tr>\n",
       "    <tr>\n",
       "      <th>1</th>\n",
       "      <td>4.0</td>\n",
       "      <td>11.877673</td>\n",
       "      <td>12.976191</td>\n",
       "      <td>15.759713</td>\n",
       "      <td>21.140708</td>\n",
       "      <td>19.569858</td>\n",
       "    </tr>\n",
       "    <tr>\n",
       "      <th>2</th>\n",
       "      <td>4.0</td>\n",
       "      <td>7.486919</td>\n",
       "      <td>1.179813</td>\n",
       "      <td>0.000000</td>\n",
       "      <td>0.000000</td>\n",
       "      <td>0.000000</td>\n",
       "    </tr>\n",
       "    <tr>\n",
       "      <th>3</th>\n",
       "      <td>4.0</td>\n",
       "      <td>3.850544</td>\n",
       "      <td>10.663404</td>\n",
       "      <td>12.393882</td>\n",
       "      <td>13.216086</td>\n",
       "      <td>0.760287</td>\n",
       "    </tr>\n",
       "    <tr>\n",
       "      <th>4</th>\n",
       "      <td>4.0</td>\n",
       "      <td>6.505248</td>\n",
       "      <td>0.000000</td>\n",
       "      <td>0.000000</td>\n",
       "      <td>0.000000</td>\n",
       "      <td>0.000000</td>\n",
       "    </tr>\n",
       "    <tr>\n",
       "      <th>5</th>\n",
       "      <td>4.0</td>\n",
       "      <td>5.464846</td>\n",
       "      <td>6.127900</td>\n",
       "      <td>0.048650</td>\n",
       "      <td>0.000000</td>\n",
       "      <td>0.000000</td>\n",
       "    </tr>\n",
       "    <tr>\n",
       "      <th>6</th>\n",
       "      <td>4.0</td>\n",
       "      <td>0.000000</td>\n",
       "      <td>0.000000</td>\n",
       "      <td>0.000000</td>\n",
       "      <td>0.000000</td>\n",
       "      <td>0.000000</td>\n",
       "    </tr>\n",
       "    <tr>\n",
       "      <th>7</th>\n",
       "      <td>4.0</td>\n",
       "      <td>4.586296</td>\n",
       "      <td>13.290237</td>\n",
       "      <td>16.207981</td>\n",
       "      <td>11.707140</td>\n",
       "      <td>15.822808</td>\n",
       "    </tr>\n",
       "    <tr>\n",
       "      <th>8</th>\n",
       "      <td>4.0</td>\n",
       "      <td>5.012705</td>\n",
       "      <td>7.737503</td>\n",
       "      <td>1.230086</td>\n",
       "      <td>5.089815</td>\n",
       "      <td>0.000000</td>\n",
       "    </tr>\n",
       "    <tr>\n",
       "      <th>9</th>\n",
       "      <td>4.0</td>\n",
       "      <td>2.782931</td>\n",
       "      <td>0.000000</td>\n",
       "      <td>0.000000</td>\n",
       "      <td>0.000000</td>\n",
       "      <td>0.000000</td>\n",
       "    </tr>\n",
       "  </tbody>\n",
       "</table>\n",
       "</div>"
      ],
      "text/plain": [
       "     0          1          2          3          4          5\n",
       "0  4.0   9.113583   0.000000   0.000000   0.000000   6.831413\n",
       "1  4.0  11.877673  12.976191  15.759713  21.140708  19.569858\n",
       "2  4.0   7.486919   1.179813   0.000000   0.000000   0.000000\n",
       "3  4.0   3.850544  10.663404  12.393882  13.216086   0.760287\n",
       "4  4.0   6.505248   0.000000   0.000000   0.000000   0.000000\n",
       "5  4.0   5.464846   6.127900   0.048650   0.000000   0.000000\n",
       "6  4.0   0.000000   0.000000   0.000000   0.000000   0.000000\n",
       "7  4.0   4.586296  13.290237  16.207981  11.707140  15.822808\n",
       "8  4.0   5.012705   7.737503   1.230086   5.089815   0.000000\n",
       "9  4.0   2.782931   0.000000   0.000000   0.000000   0.000000"
      ]
     },
     "execution_count": 282,
     "metadata": {},
     "output_type": "execute_result"
    }
   ],
   "source": [
    "Cash_Flow_df"
   ]
  },
  {
   "cell_type": "code",
   "execution_count": 283,
   "metadata": {},
   "outputs": [
    {
     "data": {
      "text/html": [
       "<div>\n",
       "<style scoped>\n",
       "    .dataframe tbody tr th:only-of-type {\n",
       "        vertical-align: middle;\n",
       "    }\n",
       "\n",
       "    .dataframe tbody tr th {\n",
       "        vertical-align: top;\n",
       "    }\n",
       "\n",
       "    .dataframe thead th {\n",
       "        text-align: right;\n",
       "    }\n",
       "</style>\n",
       "<table border=\"1\" class=\"dataframe\">\n",
       "  <thead>\n",
       "    <tr style=\"text-align: right;\">\n",
       "      <th></th>\n",
       "      <th>0</th>\n",
       "      <th>1</th>\n",
       "      <th>2</th>\n",
       "      <th>3</th>\n",
       "      <th>4</th>\n",
       "      <th>5</th>\n",
       "    </tr>\n",
       "  </thead>\n",
       "  <tbody>\n",
       "    <tr>\n",
       "      <th>0</th>\n",
       "      <td>4.0</td>\n",
       "      <td>9.113583</td>\n",
       "      <td>0.000000</td>\n",
       "      <td>0.000000</td>\n",
       "      <td>0.000000</td>\n",
       "      <td>6.831413</td>\n",
       "    </tr>\n",
       "    <tr>\n",
       "      <th>1</th>\n",
       "      <td>4.0</td>\n",
       "      <td>11.877673</td>\n",
       "      <td>12.976191</td>\n",
       "      <td>15.759713</td>\n",
       "      <td>21.140708</td>\n",
       "      <td>19.569858</td>\n",
       "    </tr>\n",
       "    <tr>\n",
       "      <th>2</th>\n",
       "      <td>4.0</td>\n",
       "      <td>7.486919</td>\n",
       "      <td>1.179813</td>\n",
       "      <td>0.000000</td>\n",
       "      <td>0.000000</td>\n",
       "      <td>0.000000</td>\n",
       "    </tr>\n",
       "    <tr>\n",
       "      <th>3</th>\n",
       "      <td>4.0</td>\n",
       "      <td>3.850544</td>\n",
       "      <td>10.663404</td>\n",
       "      <td>12.393882</td>\n",
       "      <td>13.216086</td>\n",
       "      <td>0.760287</td>\n",
       "    </tr>\n",
       "    <tr>\n",
       "      <th>4</th>\n",
       "      <td>4.0</td>\n",
       "      <td>6.505248</td>\n",
       "      <td>0.000000</td>\n",
       "      <td>0.000000</td>\n",
       "      <td>0.000000</td>\n",
       "      <td>0.000000</td>\n",
       "    </tr>\n",
       "    <tr>\n",
       "      <th>5</th>\n",
       "      <td>4.0</td>\n",
       "      <td>5.464846</td>\n",
       "      <td>6.127900</td>\n",
       "      <td>0.048650</td>\n",
       "      <td>0.000000</td>\n",
       "      <td>0.000000</td>\n",
       "    </tr>\n",
       "    <tr>\n",
       "      <th>6</th>\n",
       "      <td>4.0</td>\n",
       "      <td>0.000000</td>\n",
       "      <td>0.000000</td>\n",
       "      <td>0.000000</td>\n",
       "      <td>0.000000</td>\n",
       "      <td>0.000000</td>\n",
       "    </tr>\n",
       "    <tr>\n",
       "      <th>7</th>\n",
       "      <td>4.0</td>\n",
       "      <td>4.586296</td>\n",
       "      <td>13.290237</td>\n",
       "      <td>16.207981</td>\n",
       "      <td>11.707140</td>\n",
       "      <td>15.822808</td>\n",
       "    </tr>\n",
       "    <tr>\n",
       "      <th>8</th>\n",
       "      <td>4.0</td>\n",
       "      <td>5.012705</td>\n",
       "      <td>7.737503</td>\n",
       "      <td>1.230086</td>\n",
       "      <td>5.089815</td>\n",
       "      <td>0.000000</td>\n",
       "    </tr>\n",
       "    <tr>\n",
       "      <th>9</th>\n",
       "      <td>4.0</td>\n",
       "      <td>2.782931</td>\n",
       "      <td>0.000000</td>\n",
       "      <td>0.000000</td>\n",
       "      <td>0.000000</td>\n",
       "      <td>0.000000</td>\n",
       "    </tr>\n",
       "  </tbody>\n",
       "</table>\n",
       "</div>"
      ],
      "text/plain": [
       "     0          1          2          3          4          5\n",
       "0  4.0   9.113583   0.000000   0.000000   0.000000   6.831413\n",
       "1  4.0  11.877673  12.976191  15.759713  21.140708  19.569858\n",
       "2  4.0   7.486919   1.179813   0.000000   0.000000   0.000000\n",
       "3  4.0   3.850544  10.663404  12.393882  13.216086   0.760287\n",
       "4  4.0   6.505248   0.000000   0.000000   0.000000   0.000000\n",
       "5  4.0   5.464846   6.127900   0.048650   0.000000   0.000000\n",
       "6  4.0   0.000000   0.000000   0.000000   0.000000   0.000000\n",
       "7  4.0   4.586296  13.290237  16.207981  11.707140  15.822808\n",
       "8  4.0   5.012705   7.737503   1.230086   5.089815   0.000000\n",
       "9  4.0   2.782931   0.000000   0.000000   0.000000   0.000000"
      ]
     },
     "execution_count": 283,
     "metadata": {},
     "output_type": "execute_result"
    }
   ],
   "source": [
    "Payoff_df"
   ]
  },
  {
   "cell_type": "code",
   "execution_count": 284,
   "metadata": {},
   "outputs": [
    {
     "data": {
      "text/plain": [
       "array([21.14070805, 13.21608576, 11.70713977,  5.08981508])"
      ]
     },
     "execution_count": 284,
     "metadata": {},
     "output_type": "execute_result"
    }
   ],
   "source": [
    "i = 0\n",
    "X = ( Payoff[:, n-1-i] )[ Payoff[:, n-1-i] > 0 ]\n",
    "X"
   ]
  },
  {
   "cell_type": "code",
   "execution_count": 285,
   "metadata": {},
   "outputs": [
    {
     "data": {
      "text/plain": [
       "array([19.56985794,  0.76028744, 15.82280816,  0.        ])"
      ]
     },
     "execution_count": 285,
     "metadata": {},
     "output_type": "execute_result"
    }
   ],
   "source": [
    "Y = ( Payoff[:, n-i] )[ Payoff[:, n-1-i] > 0 ] \n",
    "Y"
   ]
  },
  {
   "cell_type": "code",
   "execution_count": 286,
   "metadata": {},
   "outputs": [
    {
     "data": {
      "text/plain": [
       "array([19.33642305,  0.75121851, 15.63406916,  0.        ])"
      ]
     },
     "execution_count": 286,
     "metadata": {},
     "output_type": "execute_result"
    }
   ],
   "source": [
    "Y = ( Payoff[:, n-i] )[ Payoff[:, n-1-i] > 0 ] * np.exp( -r * 1/n * (i+1) )\n",
    "Y"
   ]
  },
  {
   "cell_type": "code",
   "execution_count": 287,
   "metadata": {},
   "outputs": [
    {
     "data": {
      "text/plain": [
       "array([[21.14070805],\n",
       "       [13.21608576],\n",
       "       [11.70713977],\n",
       "       [ 5.08981508]])"
      ]
     },
     "execution_count": 287,
     "metadata": {},
     "output_type": "execute_result"
    }
   ],
   "source": [
    "X = X.reshape(np.size(X),1)\n",
    "X"
   ]
  },
  {
   "cell_type": "code",
   "execution_count": 288,
   "metadata": {},
   "outputs": [],
   "source": [
    "L0 = np.exp( -X/2 )\n",
    "L1 = L0 * ( 1 - X )\n",
    "L2 = L0 * ( 1 - 2*X + X**2/2 )"
   ]
  },
  {
   "cell_type": "code",
   "execution_count": 289,
   "metadata": {},
   "outputs": [
    {
     "data": {
      "text/plain": [
       "array([[2.56657273e-05],\n",
       "       [1.34947064e-03],\n",
       "       [2.86963657e-03],\n",
       "       [7.84803081e-02]])"
      ]
     },
     "execution_count": 289,
     "metadata": {},
     "output_type": "execute_result"
    }
   ],
   "source": [
    "L0"
   ]
  },
  {
   "cell_type": "code",
   "execution_count": 290,
   "metadata": {},
   "outputs": [
    {
     "data": {
      "text/plain": [
       "array([[-0.00051693],\n",
       "       [-0.01648525],\n",
       "       [-0.0307256 ],\n",
       "       [-0.32096995]])"
      ]
     },
     "execution_count": 290,
     "metadata": {},
     "output_type": "execute_result"
    }
   ],
   "source": [
    "L1"
   ]
  },
  {
   "cell_type": "code",
   "execution_count": 291,
   "metadata": {},
   "outputs": [
    {
     "data": {
      "text/plain": [
       "array([[0.00467587],\n",
       "       [0.08353262],\n",
       "       [0.13233123],\n",
       "       [0.29614376]])"
      ]
     },
     "execution_count": 291,
     "metadata": {},
     "output_type": "execute_result"
    }
   ],
   "source": [
    "L2"
   ]
  },
  {
   "cell_type": "code",
   "execution_count": 292,
   "metadata": {},
   "outputs": [
    {
     "data": {
      "text/plain": [
       "array([[ 2.56657273e-05, -5.16925920e-04,  4.67586823e-03],\n",
       "       [ 1.34947064e-03, -1.64852491e-02,  8.35326240e-02],\n",
       "       [ 2.86963657e-03, -3.07255999e-02,  1.32331228e-01],\n",
       "       [ 7.84803081e-02, -3.20969947e-01,  2.96143763e-01]])"
      ]
     },
     "execution_count": 292,
     "metadata": {},
     "output_type": "execute_result"
    }
   ],
   "source": [
    "XX = np.hstack((L0, L1, L2))\n",
    "XX"
   ]
  },
  {
   "cell_type": "code",
   "execution_count": 293,
   "metadata": {},
   "outputs": [
    {
     "data": {
      "text/plain": [
       "array([19.33642305,  0.75121851, 15.63406916,  0.        ])"
      ]
     },
     "execution_count": 293,
     "metadata": {},
     "output_type": "execute_result"
    }
   ],
   "source": [
    "Y"
   ]
  },
  {
   "cell_type": "code",
   "execution_count": 294,
   "metadata": {},
   "outputs": [
    {
     "data": {
      "text/plain": [
       "array([[ 9.81596471],\n",
       "       [10.95158227],\n",
       "       [11.54417366],\n",
       "       [ 8.18017129]])"
      ]
     },
     "execution_count": 294,
     "metadata": {},
     "output_type": "execute_result"
    }
   ],
   "source": [
    "Y_predict = reg.predict(XX)\n",
    "Y_predict"
   ]
  },
  {
   "cell_type": "code",
   "execution_count": 295,
   "metadata": {},
   "outputs": [
    {
     "data": {
      "text/plain": [
       "array([21.14070805, 13.21608576, 11.70713977,  5.08981508])"
      ]
     },
     "execution_count": 295,
     "metadata": {},
     "output_type": "execute_result"
    }
   ],
   "source": [
    "Payoff[ Payoff[:, n-1-i] > 0, n-1-i ]"
   ]
  },
  {
   "cell_type": "code",
   "execution_count": 296,
   "metadata": {},
   "outputs": [
    {
     "data": {
      "text/plain": [
       "array([[ 9.81596471, 10.95158227, 11.54417366,  8.18017129]])"
      ]
     },
     "execution_count": 296,
     "metadata": {},
     "output_type": "execute_result"
    }
   ],
   "source": [
    "Y_predict = Y_predict.reshape(1,np.size(Y_predict))\n",
    "Y_predict"
   ]
  },
  {
   "cell_type": "code",
   "execution_count": 297,
   "metadata": {},
   "outputs": [
    {
     "data": {
      "text/plain": [
       "array([[ True,  True,  True, False]])"
      ]
     },
     "execution_count": 297,
     "metadata": {},
     "output_type": "execute_result"
    }
   ],
   "source": [
    "exercise = ( Y_predict < Payoff[ Payoff[:, n-1-i] > 0, n-1-i ] )\n",
    "exercise"
   ]
  },
  {
   "cell_type": "code",
   "execution_count": 298,
   "metadata": {},
   "outputs": [
    {
     "data": {
      "text/plain": [
       "array([[21.14070805, 13.21608576, 11.70713977,  0.        ]])"
      ]
     },
     "execution_count": 298,
     "metadata": {},
     "output_type": "execute_result"
    }
   ],
   "source": [
    "exercise = ( Y_predict < Payoff[ Payoff[:, n-1-i] > 0, n-1-i ] ) * Payoff[ Payoff[:, n-1-i] > 0, n-1-i ]\n",
    "exercise"
   ]
  },
  {
   "cell_type": "code",
   "execution_count": 299,
   "metadata": {},
   "outputs": [],
   "source": [
    "Cash_Flow[ Payoff[:, n-1-i] > 0, n-1-i ] = exercise\n",
    "Cash_Flow[ Payoff[:, n-1-i] > 0, n-i: ] = 0"
   ]
  },
  {
   "cell_type": "code",
   "execution_count": 300,
   "metadata": {},
   "outputs": [
    {
     "data": {
      "text/html": [
       "<div>\n",
       "<style scoped>\n",
       "    .dataframe tbody tr th:only-of-type {\n",
       "        vertical-align: middle;\n",
       "    }\n",
       "\n",
       "    .dataframe tbody tr th {\n",
       "        vertical-align: top;\n",
       "    }\n",
       "\n",
       "    .dataframe thead th {\n",
       "        text-align: right;\n",
       "    }\n",
       "</style>\n",
       "<table border=\"1\" class=\"dataframe\">\n",
       "  <thead>\n",
       "    <tr style=\"text-align: right;\">\n",
       "      <th></th>\n",
       "      <th>0</th>\n",
       "      <th>1</th>\n",
       "      <th>2</th>\n",
       "      <th>3</th>\n",
       "      <th>4</th>\n",
       "      <th>5</th>\n",
       "    </tr>\n",
       "  </thead>\n",
       "  <tbody>\n",
       "    <tr>\n",
       "      <th>0</th>\n",
       "      <td>4.0</td>\n",
       "      <td>9.113583</td>\n",
       "      <td>0.000000</td>\n",
       "      <td>0.000000</td>\n",
       "      <td>0.000000</td>\n",
       "      <td>6.831413</td>\n",
       "    </tr>\n",
       "    <tr>\n",
       "      <th>1</th>\n",
       "      <td>4.0</td>\n",
       "      <td>11.877673</td>\n",
       "      <td>12.976191</td>\n",
       "      <td>15.759713</td>\n",
       "      <td>21.140708</td>\n",
       "      <td>0.000000</td>\n",
       "    </tr>\n",
       "    <tr>\n",
       "      <th>2</th>\n",
       "      <td>4.0</td>\n",
       "      <td>7.486919</td>\n",
       "      <td>1.179813</td>\n",
       "      <td>0.000000</td>\n",
       "      <td>0.000000</td>\n",
       "      <td>0.000000</td>\n",
       "    </tr>\n",
       "    <tr>\n",
       "      <th>3</th>\n",
       "      <td>4.0</td>\n",
       "      <td>3.850544</td>\n",
       "      <td>10.663404</td>\n",
       "      <td>12.393882</td>\n",
       "      <td>13.216086</td>\n",
       "      <td>0.000000</td>\n",
       "    </tr>\n",
       "    <tr>\n",
       "      <th>4</th>\n",
       "      <td>4.0</td>\n",
       "      <td>6.505248</td>\n",
       "      <td>0.000000</td>\n",
       "      <td>0.000000</td>\n",
       "      <td>0.000000</td>\n",
       "      <td>0.000000</td>\n",
       "    </tr>\n",
       "    <tr>\n",
       "      <th>5</th>\n",
       "      <td>4.0</td>\n",
       "      <td>5.464846</td>\n",
       "      <td>6.127900</td>\n",
       "      <td>0.048650</td>\n",
       "      <td>0.000000</td>\n",
       "      <td>0.000000</td>\n",
       "    </tr>\n",
       "    <tr>\n",
       "      <th>6</th>\n",
       "      <td>4.0</td>\n",
       "      <td>0.000000</td>\n",
       "      <td>0.000000</td>\n",
       "      <td>0.000000</td>\n",
       "      <td>0.000000</td>\n",
       "      <td>0.000000</td>\n",
       "    </tr>\n",
       "    <tr>\n",
       "      <th>7</th>\n",
       "      <td>4.0</td>\n",
       "      <td>4.586296</td>\n",
       "      <td>13.290237</td>\n",
       "      <td>16.207981</td>\n",
       "      <td>11.707140</td>\n",
       "      <td>0.000000</td>\n",
       "    </tr>\n",
       "    <tr>\n",
       "      <th>8</th>\n",
       "      <td>4.0</td>\n",
       "      <td>5.012705</td>\n",
       "      <td>7.737503</td>\n",
       "      <td>1.230086</td>\n",
       "      <td>0.000000</td>\n",
       "      <td>0.000000</td>\n",
       "    </tr>\n",
       "    <tr>\n",
       "      <th>9</th>\n",
       "      <td>4.0</td>\n",
       "      <td>2.782931</td>\n",
       "      <td>0.000000</td>\n",
       "      <td>0.000000</td>\n",
       "      <td>0.000000</td>\n",
       "      <td>0.000000</td>\n",
       "    </tr>\n",
       "  </tbody>\n",
       "</table>\n",
       "</div>"
      ],
      "text/plain": [
       "     0          1          2          3          4         5\n",
       "0  4.0   9.113583   0.000000   0.000000   0.000000  6.831413\n",
       "1  4.0  11.877673  12.976191  15.759713  21.140708  0.000000\n",
       "2  4.0   7.486919   1.179813   0.000000   0.000000  0.000000\n",
       "3  4.0   3.850544  10.663404  12.393882  13.216086  0.000000\n",
       "4  4.0   6.505248   0.000000   0.000000   0.000000  0.000000\n",
       "5  4.0   5.464846   6.127900   0.048650   0.000000  0.000000\n",
       "6  4.0   0.000000   0.000000   0.000000   0.000000  0.000000\n",
       "7  4.0   4.586296  13.290237  16.207981  11.707140  0.000000\n",
       "8  4.0   5.012705   7.737503   1.230086   0.000000  0.000000\n",
       "9  4.0   2.782931   0.000000   0.000000   0.000000  0.000000"
      ]
     },
     "execution_count": 300,
     "metadata": {},
     "output_type": "execute_result"
    }
   ],
   "source": [
    "Cash_Flow_df = pd.DataFrame(data=Cash_Flow)\n",
    "Cash_Flow_df"
   ]
  },
  {
   "cell_type": "code",
   "execution_count": 306,
   "metadata": {},
   "outputs": [
    {
     "data": {
      "text/html": [
       "<div>\n",
       "<style scoped>\n",
       "    .dataframe tbody tr th:only-of-type {\n",
       "        vertical-align: middle;\n",
       "    }\n",
       "\n",
       "    .dataframe tbody tr th {\n",
       "        vertical-align: top;\n",
       "    }\n",
       "\n",
       "    .dataframe thead th {\n",
       "        text-align: right;\n",
       "    }\n",
       "</style>\n",
       "<table border=\"1\" class=\"dataframe\">\n",
       "  <thead>\n",
       "    <tr style=\"text-align: right;\">\n",
       "      <th></th>\n",
       "      <th>0</th>\n",
       "      <th>1</th>\n",
       "      <th>2</th>\n",
       "      <th>3</th>\n",
       "      <th>4</th>\n",
       "    </tr>\n",
       "  </thead>\n",
       "  <tbody>\n",
       "    <tr>\n",
       "      <th>0</th>\n",
       "      <td>0.0</td>\n",
       "      <td>0.0</td>\n",
       "      <td>0.0</td>\n",
       "      <td>0.0</td>\n",
       "      <td>0.0</td>\n",
       "    </tr>\n",
       "    <tr>\n",
       "      <th>1</th>\n",
       "      <td>0.0</td>\n",
       "      <td>0.0</td>\n",
       "      <td>0.0</td>\n",
       "      <td>0.0</td>\n",
       "      <td>0.0</td>\n",
       "    </tr>\n",
       "    <tr>\n",
       "      <th>2</th>\n",
       "      <td>0.0</td>\n",
       "      <td>0.0</td>\n",
       "      <td>0.0</td>\n",
       "      <td>0.0</td>\n",
       "      <td>0.0</td>\n",
       "    </tr>\n",
       "    <tr>\n",
       "      <th>3</th>\n",
       "      <td>0.0</td>\n",
       "      <td>0.0</td>\n",
       "      <td>0.0</td>\n",
       "      <td>0.0</td>\n",
       "      <td>0.0</td>\n",
       "    </tr>\n",
       "    <tr>\n",
       "      <th>4</th>\n",
       "      <td>0.0</td>\n",
       "      <td>0.0</td>\n",
       "      <td>0.0</td>\n",
       "      <td>0.0</td>\n",
       "      <td>0.0</td>\n",
       "    </tr>\n",
       "  </tbody>\n",
       "</table>\n",
       "</div>"
      ],
      "text/plain": [
       "     0    1    2    3    4\n",
       "0  0.0  0.0  0.0  0.0  0.0\n",
       "1  0.0  0.0  0.0  0.0  0.0\n",
       "2  0.0  0.0  0.0  0.0  0.0\n",
       "3  0.0  0.0  0.0  0.0  0.0\n",
       "4  0.0  0.0  0.0  0.0  0.0"
      ]
     },
     "execution_count": 306,
     "metadata": {},
     "output_type": "execute_result"
    }
   ],
   "source": [
    "d = np.zeros((5,5))\n",
    "test = pd.DataFrame(data=d)\n",
    "test"
   ]
  },
  {
   "cell_type": "code",
   "execution_count": 339,
   "metadata": {},
   "outputs": [
    {
     "data": {
      "text/plain": [
       "array([[0., 1., 2., 0., 0.],\n",
       "       [0., 1., 2., 0., 0.],\n",
       "       [0., 1., 2., 0., 0.],\n",
       "       [0., 1., 2., 0., 0.],\n",
       "       [0., 1., 2., 0., 0.]])"
      ]
     },
     "execution_count": 339,
     "metadata": {},
     "output_type": "execute_result"
    }
   ],
   "source": [
    "d"
   ]
  },
  {
   "cell_type": "code",
   "execution_count": 340,
   "metadata": {},
   "outputs": [
    {
     "data": {
      "text/plain": [
       "array([[0., 1., 2., 0., 0.],\n",
       "       [0., 1., 2., 0., 0.],\n",
       "       [0., 1., 2., 0., 0.],\n",
       "       [0., 1., 2., 0., 0.],\n",
       "       [0., 1., 2., 0., 0.]])"
      ]
     },
     "execution_count": 340,
     "metadata": {},
     "output_type": "execute_result"
    }
   ],
   "source": [
    "d[:, 2] = 2\n",
    "d[:, 1] = 1\n",
    "d"
   ]
  },
  {
   "cell_type": "code",
   "execution_count": 341,
   "metadata": {},
   "outputs": [
    {
     "data": {
      "text/plain": [
       "array([1., 1., 1., 1., 1.])"
      ]
     },
     "execution_count": 341,
     "metadata": {},
     "output_type": "execute_result"
    }
   ],
   "source": [
    "x = (d[:, 1])[ d[:, 2] > 0 ]\n",
    "x"
   ]
  },
  {
   "cell_type": "code",
   "execution_count": 342,
   "metadata": {},
   "outputs": [
    {
     "data": {
      "text/plain": [
       "5"
      ]
     },
     "execution_count": 342,
     "metadata": {},
     "output_type": "execute_result"
    }
   ],
   "source": [
    "x.size"
   ]
  },
  {
   "cell_type": "code",
   "execution_count": 343,
   "metadata": {},
   "outputs": [
    {
     "data": {
      "text/plain": [
       "array([False, False, False, False, False])"
      ]
     },
     "execution_count": 343,
     "metadata": {},
     "output_type": "execute_result"
    }
   ],
   "source": [
    "d[:, 4] > 0 "
   ]
  },
  {
   "cell_type": "code",
   "execution_count": 344,
   "metadata": {},
   "outputs": [
    {
     "data": {
      "text/plain": [
       "array([], dtype=float64)"
      ]
     },
     "execution_count": 344,
     "metadata": {},
     "output_type": "execute_result"
    }
   ],
   "source": [
    "x = (d[:, 1])[ d[:, 4] > 0 ]\n",
    "x"
   ]
  },
  {
   "cell_type": "code",
   "execution_count": 347,
   "metadata": {},
   "outputs": [
    {
     "name": "stdout",
     "output_type": "stream",
     "text": [
      "1\n"
     ]
    }
   ],
   "source": [
    "if x.size==0:\n",
    "    print(1)"
   ]
  },
  {
   "cell_type": "code",
   "execution_count": null,
   "metadata": {},
   "outputs": [],
   "source": []
  }
 ],
 "metadata": {
  "kernelspec": {
   "display_name": "Python 3",
   "language": "python",
   "name": "python3"
  },
  "language_info": {
   "codemirror_mode": {
    "name": "ipython",
    "version": 3
   },
   "file_extension": ".py",
   "mimetype": "text/x-python",
   "name": "python",
   "nbconvert_exporter": "python",
   "pygments_lexer": "ipython3",
   "version": "3.6.5"
  }
 },
 "nbformat": 4,
 "nbformat_minor": 2
}

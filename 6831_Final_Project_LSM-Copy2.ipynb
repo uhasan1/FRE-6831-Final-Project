{
 "cells": [
  {
   "cell_type": "markdown",
   "metadata": {},
   "source": [
    "# Valuing American Options by Simulation: A Simple Least-Square Approach\n",
    "\n",
    "Implementation by Python\n",
    "\n",
    "For an American option, the optimal strategy to exercise is to compare the immediate exercise value with the expected cash flows from continuing. Thus, The key to optimally exercising an American option is identifying the conditional expected value of continuation.\n"
   ]
  },
  {
   "cell_type": "markdown",
   "metadata": {},
   "source": [
    "$ dS = \\mu Sdt + \\sigma SdZ $\n",
    "\n",
    "The formula for calculating stock price at time t is:\n",
    "\n",
    "$ S_{t_{i+1}} = S_{t_{i}} e^{(\\mu - \\frac{1}{2}\\sigma^2)(t_{i+1}-t_{i})+\\sigma \\sqrt{t_{i+1}-t_{i}} Z_{i+1}} $,\n",
    "where $Z \\sim N(0, 1)$"
   ]
  },
  {
   "cell_type": "code",
   "execution_count": 5,
   "metadata": {},
   "outputs": [],
   "source": [
    "import numpy as np\n",
    "import pandas as pd\n",
    "import matplotlib.pyplot as plt\n",
    "from sklearn.linear_model import LinearRegression\n",
    "from scipy.stats import norm\n",
    "from mpl_toolkits.mplot3d import Axes3D"
   ]
  },
  {
   "cell_type": "code",
   "execution_count": 6,
   "metadata": {},
   "outputs": [],
   "source": [
    "'''    \n",
    "parameter description:\n",
    "S0: initial price\n",
    "n: number of steps\n",
    "t: starting time\n",
    "T: terminating time\n",
    "St: trajectory of price\n",
    "a, b: the first and second moment of log Y\n",
    "d: dividend yield\n",
    "'''\n",
    "\n",
    "def Geometric_Brownian_Motion_Trajectory( mu, sigma, S0, n, t, T ): \n",
    "    time = np.linspace(t, T, n + 1) \n",
    "    delta_time = time[1] - time[0] \n",
    "    St = np.zeros(n + 1)\n",
    "    St[0] = S0\n",
    "    z = np.random.standard_normal(n) \n",
    "    for i in range(n):\n",
    "        St[i + 1] = St[i] * np.exp((mu - 1 / 2 * sigma ** 2) * delta_time + sigma * delta_time ** (1 / 2) * z[i])\n",
    "    return St\n",
    "\n",
    "def Geometric_Brownian_Motion_Jump( mu, sigma, d, S0, n, t, T, a, b, lam ):\n",
    "        \n",
    "    delta_t = (T - t) / n\n",
    "    St = np.zeros(n + 1)\n",
    "    X = np.zeros(n + 1)\n",
    "    z = np.random.normal(size=(n + 1, 1))\n",
    "    X[0] = np.log(S0)\n",
    "    for i in range(1, n + 1):\n",
    "        n = np.random.poisson(lam * delta_t)\n",
    "        if n == 0:\n",
    "            m =0 \n",
    "        else:\n",
    "            m = a * n + b * n ** 0.5 * np.random.normal()\n",
    "        X[i] = X[i - 1] + (mu - d - 0.5 * sigma ** 2) * delta_t + sigma * delta_t ** 0.5 * z[i] + m\n",
    "        St = np.exp(X)\n",
    "    return St\n"
   ]
  },
  {
   "cell_type": "code",
   "execution_count": 7,
   "metadata": {},
   "outputs": [],
   "source": [
    "def Black_Scholes_European_Put( t, T, St, K, r, d, vol): \n",
    "\n",
    "        d1 = 1 / (vol * (T-t)**(1/2)) * (np.log(St/K) + (r - d + 1/2 * vol**2) * (T-t))\n",
    "        d2 = d1 - vol * (T-t)**(1/2)\n",
    "        norm1 = norm.cdf(-d1)\n",
    "        norm2 = norm.cdf(-d2)\n",
    "        bs_european_put_price = -np.exp(-d*(T-t)) * St * norm1 + np.exp(-r*(T-t)) * K * norm2\n",
    "\n",
    "        return bs_european_put_price\n"
   ]
  },
  {
   "cell_type": "code",
   "execution_count": 6,
   "metadata": {},
   "outputs": [],
   "source": [
    "def Valuation_by_Least_Square( r, sigma, S0, m, n, t, T ):\n",
    "    \n",
    "    # Create m paths of stock price with n steps of time by simulation\n",
    "    St_GeoBro = np.zeros((m, n+1))\n",
    "    for i in range(m):\n",
    "        St_GeoBro[i, :] = Geometric_Brownian_Motion_Trajectory( r, sigma, S0, n, t, T )\n",
    "\n",
    "    # Payoff is a matrix of the amount of cash flow at each step if immediately exercising the option,\n",
    "    # which is only for convenience of calculation in the following procedures \n",
    "    Payoff = np.maximum( K - St_GeoBro, 0 )\n",
    "        \n",
    "    # Cash_Flow is a matrix similar to Payoff, \n",
    "    # which is updated by doing regression and deciding whether to exercise immediately\n",
    "    Cash_Flow = np.maximum( K - St_GeoBro, 0 )\n",
    "\n",
    "    # Calculate the conditional expected value of continuation\n",
    "    # 1. regressing (Y = the discounted payoff at time t_i+1) against (X = the stock price, whose option is in the money at time t_i) and X^2\n",
    "    # 2. predict the expected conditional value at time t_i by substituing X and X^2 into the regression formula\n",
    "    # 3. compare the expected conditional value with the immediate value\n",
    "    # 4. if the immediate value is greater, exercise immediately\n",
    "\n",
    "    for i in range(n-1):\n",
    "    \n",
    "        # X is the payoff if exercise in the money at time t_i\n",
    "        X = ( Payoff[:, n-1-i] )[ Payoff[:, n-1-i] > 0 ]\n",
    "\n",
    "        # Y is the discounted payoff at time t_i+1, related to X\n",
    "        Y = ( Payoff[:, n-i] )[ Payoff[:, n-1-i] > 0 ] * np.exp( -r * 1/n * (i+1) )\n",
    "\n",
    "        # L0, L1, L2 are basis functions of X\n",
    "        # combine them into a single matrix for following regression \n",
    "        X = X.reshape(np.size(X),1)\n",
    "        L0 = np.exp( -X/2 )\n",
    "        L1 = L0 * ( 1 - X )\n",
    "        L2 = L0 * ( 1 - 2*X + X**2/2 )\n",
    "        XX = np.hstack((L0, L1, L2))\n",
    "\n",
    "        # regress Y ~ intercept + a * X + b * X2\n",
    "        reg = LinearRegression().fit(XX, Y)\n",
    "        # calculate the predicted value of Y (i.e. the conditional expected value of continuation)\n",
    "        Y_predict = reg.predict(XX)\n",
    "\n",
    "        # compare the immediate exercise value with the conditional expected value of continuation\n",
    "        # and decide whether to exercise immediately\n",
    "        exercise = ( Y_predict < Payoff[ Payoff[:, n-1-i] > 0, n-1-i ] ) * Payoff[ Payoff[:, n-1-i] > 0, n-1-i ]\n",
    "\n",
    "        # substitue those values decided to exercise immediately into the Cash_Flow matrix\n",
    "        # and set the continuing values of Cash_Flow to zero, as the option is exercised obly once\n",
    "        Cash_Flow[ Payoff[:, n-1-i] > 0, n-1-i ] = exercise\n",
    "        Cash_Flow[ Payoff[:, n-1-i] > 0, n-i: ] = 0\n",
    "    \n",
    "    # calculate the discounted factor matrix\n",
    "    df = np.ones( np.shape( Cash_Flow[:, 1:] ) )\n",
    "    for i in range(n):\n",
    "        df[:, i] = np.exp( -r * 1/n * (i+1) )\n",
    "    \n",
    "    # calculate the present value of each path\n",
    "    PV_of_Cash_Flow = np.sum( (Cash_Flow[:, 1:] * df), axis=1 )\n",
    "    \n",
    "    # calculate the value of the option\n",
    "    # by averaging the value of each presen value of each path\n",
    "    value = np.mean(PV_of_Cash_Flow)\n",
    "    \n",
    "    return value\n",
    "\n"
   ]
  },
  {
   "cell_type": "code",
   "execution_count": 7,
   "metadata": {},
   "outputs": [],
   "source": [
    "S0 = 36\n",
    "K = 40\n",
    "r = 0.06\n",
    "sigma = 0.2\n",
    "t = 0\n",
    "T = 1\n",
    "d = 0\n",
    "n = 50 # 50 steps per year\n",
    "m = 100000 # 100000 paths of stock price"
   ]
  },
  {
   "cell_type": "code",
   "execution_count": 8,
   "metadata": {},
   "outputs": [
    {
     "data": {
      "text/plain": [
       "3.9507464629681195"
      ]
     },
     "execution_count": 8,
     "metadata": {},
     "output_type": "execute_result"
    }
   ],
   "source": [
    "Value_LSM = Valuation_by_Least_Square( r, sigma, S0, m, n, t, T )\n",
    "Value_LSM"
   ]
  },
  {
   "cell_type": "code",
   "execution_count": 9,
   "metadata": {},
   "outputs": [
    {
     "data": {
      "text/plain": [
       "3.84430779159684"
      ]
     },
     "execution_count": 9,
     "metadata": {},
     "output_type": "execute_result"
    }
   ],
   "source": [
    "Value_BS = Black_Scholes_European_Put( t, T, S0, K, r, d, sigma )\n",
    "Value_BS"
   ]
  },
  {
   "cell_type": "code",
   "execution_count": 10,
   "metadata": {},
   "outputs": [],
   "source": [
    "M = 1000 # 1000 steps for the stock price\n",
    "N = 40000 # 40000 time steps per year\n",
    "Smin = 10\n",
    "Smax = 50\n"
   ]
  },
  {
   "cell_type": "code",
   "execution_count": 1,
   "metadata": {},
   "outputs": [],
   "source": [
    "def TDMAsolver(a, b, c, d):\n",
    "    '''\n",
    "    TDMA solver, a b c d can be NumPy array type or Python list type.\n",
    "    refer to http://en.wikipedia.org/wiki/Tridiagonal_matrix_algorithm\n",
    "    and to http://www.cfd-online.com/Wiki/Tridiagonal_matrix_algorithm_-_TDMA_(Thomas_algorithm)\n",
    "    '''\n",
    "    nf = len(d) # number of equations\n",
    "    ac, bc, cc, dc = map(np.array, (a, b, c, d)) # copy arrays\n",
    "    for it in range(1, nf):\n",
    "        mc = ac[it-1]/bc[it-1]\n",
    "        bc[it] = bc[it] - mc*cc[it-1] \n",
    "        dc[it] = dc[it] - mc*dc[it-1]\n",
    "        \n",
    "    xc = bc\n",
    "    xc[-1] = dc[-1]/bc[-1]\n",
    "\n",
    "    for il in range(nf-2, -1, -1):\n",
    "        xc[il] = (dc[il]-cc[il]*xc[il+1])/bc[il]\n",
    "\n",
    "    return xc"
   ]
  },
  {
   "cell_type": "code",
   "execution_count": 2,
   "metadata": {},
   "outputs": [],
   "source": [
    "def Implicit_Finite_Difference ( r, d, sigma, K, Smin, Smax, M, N, t, T ):\n",
    "    \n",
    "    # discretization of tao(time-to-maturity) and x(log(S))\n",
    "    tao = np.linspace ( t, T, N+1 )\n",
    "    x = np.linspace ( np.log(Smin), np.log(Smax), M+1 )\n",
    "    \n",
    "    # value matrix of heat equation\n",
    "    w = np.zeros( (M+1, N+1) ) \n",
    "    # a and b are used for transformed the value matrix of heat equation to option value matrix\n",
    "    a = 1/sigma**2 * ( r - (sigma**2)/2 )\n",
    "    b = 1/(2*sigma**2) * ( r - (sigma**2)/2 )**2 + r\n",
    "\n",
    "    w[M, :] = 0\n",
    "    w[0, :] = np.exp( a * np.log(Smin) + b * tao ) * ( np.exp( -r * tao ) * K - Smin )\n",
    "    # initial value\n",
    "    w[:, 0] = np.exp( a * x ) * np.maximum( K - np.exp(x), 0 )\n",
    "    \n",
    "    delta_t = tao[1] - tao[0]\n",
    "    delta_x = x[1] - x[0]\n",
    "    gamma = sigma**2 * delta_t / delta_x**2\n",
    "    \n",
    "    aa = np.ones(M-2) * ( -gamma/2 )\n",
    "    bb = np.ones(M-1) * ( 1+gamma )\n",
    "    cc = np.ones(M-1) * ( -gamma/2 )\n",
    "    \n",
    "    for i in range(N):\n",
    "        B_n = np.zeros(M-1)\n",
    "        B_n[-1] = w[M, i+1] * (gamma/2)\n",
    "    \n",
    "        dd = w[1:M, i] + B_n\n",
    "        w[1:M, i+1] = TDMAsolver(aa, bb, cc, dd)\n",
    "    \n",
    "    tt, xx = np.meshgrid(tao, x)\n",
    "    p = np.exp( -a*xx - b * tt ) * w\n",
    "    \n",
    "    return p\n",
    "\n"
   ]
  },
  {
   "cell_type": "code",
   "execution_count": 3,
   "metadata": {},
   "outputs": [],
   "source": [
    "M = 10000 # 1000 steps for the stock price\n",
    "N = 50 # 40000 time steps per year\n",
    "Smin = 5\n",
    "Smax = 70\n"
   ]
  },
  {
   "cell_type": "code",
   "execution_count": 4,
   "metadata": {},
   "outputs": [
    {
     "ename": "NameError",
     "evalue": "name 'np' is not defined",
     "output_type": "error",
     "traceback": [
      "\u001b[0;31m---------------------------------------------------------------------------\u001b[0m",
      "\u001b[0;31mNameError\u001b[0m                                 Traceback (most recent call last)",
      "\u001b[0;32m<ipython-input-4-2e61052fd86c>\u001b[0m in \u001b[0;36m<module>\u001b[0;34m()\u001b[0m\n\u001b[0;32m----> 1\u001b[0;31m \u001b[0mtao\u001b[0m \u001b[0;34m=\u001b[0m \u001b[0mnp\u001b[0m\u001b[0;34m.\u001b[0m\u001b[0mlinspace\u001b[0m \u001b[0;34m(\u001b[0m \u001b[0mt\u001b[0m\u001b[0;34m,\u001b[0m \u001b[0mT\u001b[0m\u001b[0;34m,\u001b[0m \u001b[0mN\u001b[0m\u001b[0;34m+\u001b[0m\u001b[0;36m1\u001b[0m \u001b[0;34m)\u001b[0m\u001b[0;34m\u001b[0m\u001b[0m\n\u001b[0m\u001b[1;32m      2\u001b[0m \u001b[0ms\u001b[0m \u001b[0;34m=\u001b[0m \u001b[0mnp\u001b[0m\u001b[0;34m.\u001b[0m\u001b[0mlinspace\u001b[0m \u001b[0;34m(\u001b[0m \u001b[0mSmin\u001b[0m\u001b[0;34m,\u001b[0m \u001b[0mSmax\u001b[0m\u001b[0;34m,\u001b[0m \u001b[0mM\u001b[0m\u001b[0;34m+\u001b[0m\u001b[0;36m1\u001b[0m \u001b[0;34m)\u001b[0m\u001b[0;34m\u001b[0m\u001b[0m\n",
      "\u001b[0;31mNameError\u001b[0m: name 'np' is not defined"
     ]
    }
   ],
   "source": [
    "tao = np.linspace ( t, T, N+1 )\n",
    "s = np.linspace ( Smin, Smax, M+1 )"
   ]
  },
  {
   "cell_type": "code",
   "execution_count": 15,
   "metadata": {},
   "outputs": [],
   "source": [
    "tt, ss = np.meshgrid(tao, s)"
   ]
  },
  {
   "cell_type": "code",
   "execution_count": 16,
   "metadata": {},
   "outputs": [],
   "source": [
    "Value_Finite_Difference = Implicit_Finite_Difference ( r, d, sigma, K, Smin, Smax, M, N, t, T )"
   ]
  },
  {
   "cell_type": "code",
   "execution_count": 17,
   "metadata": {},
   "outputs": [
    {
     "data": {
      "text/plain": [
       "(10001, 51)"
      ]
     },
     "execution_count": 17,
     "metadata": {},
     "output_type": "execute_result"
    }
   ],
   "source": [
    "p = Value_Finite_Difference\n",
    "p.shape"
   ]
  },
  {
   "cell_type": "code",
   "execution_count": 18,
   "metadata": {},
   "outputs": [
    {
     "data": {
      "text/plain": [
       "<mpl_toolkits.mplot3d.art3d.Poly3DCollection at 0x1023b0358>"
      ]
     },
     "execution_count": 18,
     "metadata": {},
     "output_type": "execute_result"
    },
    {
     "data": {
      "image/png": "[encoded data removed]",
      "text/plain": [
       "<Figure size 432x288 with 1 Axes>"
      ]
     },
     "metadata": {},
     "output_type": "display_data"
    }
   ],
   "source": [
    "fig = plt.figure()\n",
    "ax = fig.gca(projection='3d')\n",
    "ax.plot_surface(ss, tt, p)"
   ]
  },
  {
   "cell_type": "code",
   "execution_count": 19,
   "metadata": {},
   "outputs": [],
   "source": [
    "def Black_Scholes_Implicit_FD_EO( K, r, d, vol, Smin, Smax, t, T, N, M, initial_condition, boundary_condition ):\n",
    "        \n",
    "    delta_s = (Smax-Smin)/N\n",
    "    delta_tao = (T-t)/M\n",
    "        \n",
    "    if delta_tao / (delta_s)**2 < 0 or delta_tao / (delta_s)**2 >= 1/2:\n",
    "        print( 'stability condition does not hold.' )\n",
    "        quit()\n",
    "            \n",
    "    else:\n",
    "        St = np.linspace(Smin, Smax, N+1)\n",
    "        tao = np.linspace(t, T, M+1)\n",
    "        v = np.zeros((N+1, M+1))  # option value array\n",
    "            \n",
    "        # Calculating the weighting matix\n",
    "        lI = -(St**2 * vol**2 * delta_tao) / (2 * (delta_s)**2) + ((r-d) * St * delta_tao) / (2 * delta_s)\n",
    "        dI = 1 + r*delta_tao + vol**2 * St**2 * delta_tao / (delta_s)**2\n",
    "        uI = -vol**2 * St**2 * delta_tao / (2 * (delta_s)**2) - (r-d) * St * delta_tao / (2 * delta_s) \n",
    "        \n",
    "        wm = np.zeros((N+1, N+1))\n",
    "        for i in range(1, N):\n",
    "            wm[i, i-1] = lI[i]\n",
    "            wm[i, i] = dI[i]\n",
    "            wm[i, i+1] = uI[i]\n",
    "            \n",
    "        wm[0, 0] = 2*lI[0] + dI[0]\n",
    "        wm[0, 1] = uI[0] - lI[0]\n",
    "        wm[N, N-1] = lI[N] - uI[N]\n",
    "        wm[N, N] = dI[N] + 2*uI[N]\n",
    "            \n",
    "        # calculate the price\n",
    "        if initial_condition == 'ic_call':\n",
    "            v[:, 0] = ((St > K) + 0.0) * (St - K)\n",
    "        elif initial_condition == 'ic_put':\n",
    "            v[:, 0] = ((St < K) + 0.0) * (K - St)\n",
    "        else:\n",
    "            print( 'initial condition is not appropriate!' )\n",
    "            \n",
    "        if boundary_condition == 'dirichlet_bc':\n",
    "            for k in range(1, M+1):\n",
    "                v[:, k] = np.linalg.inv(wm) @ (v[:, k-1])\n",
    "                v[0, k] = v[0, k-1]\n",
    "                v[N, k] = v[N, k-1]\n",
    "        elif boundary_condition == 'neumann_bc':\n",
    "            for k in range(1, M+1):\n",
    "                v[:, k] = np.linalg.inv(wm) @ v[:, k-1]      \n",
    "        else:\n",
    "            print( 'boundary condition is not appropriate!' )\n",
    "\n",
    "    bs_implicit_fd_eo_price = np.transpose(v)\n",
    "    return bs_implicit_fd_eo_price\n",
    "\n"
   ]
  },
  {
   "cell_type": "code",
   "execution_count": 20,
   "metadata": {},
   "outputs": [
    {
     "ename": "TypeError",
     "evalue": "expected sequence object with len >= 0 or a single integer",
     "output_type": "error",
     "traceback": [
      "\u001b[0;31m---------------------------------------------------------------------------\u001b[0m",
      "\u001b[0;31mTypeError\u001b[0m                                 Traceback (most recent call last)",
      "\u001b[0;32m<ipython-input-20-ee8812b20a74>\u001b[0m in \u001b[0;36m<module>\u001b[0;34m()\u001b[0m\n\u001b[0;32m----> 1\u001b[0;31m \u001b[0mp\u001b[0m\u001b[0;34m.\u001b[0m\u001b[0mshape\u001b[0m \u001b[0;34m=\u001b[0m \u001b[0mBlack_Scholes_Implicit_FD_EO\u001b[0m\u001b[0;34m\u001b[0m\u001b[0m\n\u001b[0m",
      "\u001b[0;31mTypeError\u001b[0m: expected sequence object with len >= 0 or a single integer"
     ]
    }
   ],
   "source": [
    "p.shape = Black_Scholes_Implicit_FD_EO"
   ]
  },
  {
   "cell_type": "code",
   "execution_count": null,
   "metadata": {},
   "outputs": [],
   "source": []
  }
 ],
 "metadata": {
  "kernelspec": {
   "display_name": "Python 3",
   "language": "python",
   "name": "python3"
  },
  "language_info": {
   "codemirror_mode": {
    "name": "ipython",
    "version": 3
   },
   "file_extension": ".py",
   "mimetype": "text/x-python",
   "name": "python",
   "nbconvert_exporter": "python",
   "pygments_lexer": "ipython3",
   "version": "3.6.5"
  }
 },
 "nbformat": 4,
 "nbformat_minor": 2
}
